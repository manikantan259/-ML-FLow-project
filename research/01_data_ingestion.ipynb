{
 "cells": [
  {
   "cell_type": "code",
   "execution_count": 1,
   "metadata": {},
   "outputs": [],
   "source": [
    "import os  "
   ]
  },
  {
   "cell_type": "code",
   "execution_count": 3,
   "metadata": {},
   "outputs": [
    {
     "data": {
      "text/plain": [
       "'c:\\\\Users\\\\money\\\\OneDrive\\\\Desktop\\\\Ml flow\\\\-ML-FLow-project\\\\research'"
      ]
     },
     "execution_count": 3,
     "metadata": {},
     "output_type": "execute_result"
    }
   ],
   "source": [
    "%pwd"
   ]
  },
  {
   "cell_type": "code",
   "execution_count": 4,
   "metadata": {},
   "outputs": [],
   "source": [
    "os.chdir(\"../\")"
   ]
  },
  {
   "cell_type": "code",
   "execution_count": 5,
   "metadata": {},
   "outputs": [
    {
     "data": {
      "text/plain": [
       "'c:\\\\Users\\\\money\\\\OneDrive\\\\Desktop\\\\Ml flow\\\\-ML-FLow-project'"
      ]
     },
     "execution_count": 5,
     "metadata": {},
     "output_type": "execute_result"
    }
   ],
   "source": [
    "%pwd"
   ]
  },
  {
   "cell_type": "code",
   "execution_count": 6,
   "metadata": {},
   "outputs": [],
   "source": [
    "from dataclasses import dataclass\n",
    "from pathlib import Path\n",
    "\n",
    "\n",
    "@dataclass(frozen=True)\n",
    "class DataIngestionConfig:\n",
    "    root_dir: Path\n",
    "    source_URL: str\n",
    "    local_data_file: Path\n",
    "    unzip_dir: Path"
   ]
  },
  {
   "cell_type": "code",
   "execution_count": 31,
   "metadata": {},
   "outputs": [],
   "source": [
    "import mlProject.constants\n",
    "from mlProject.utils.common import read_yaml, create_directories"
   ]
  },
  {
   "cell_type": "code",
   "execution_count": 36,
   "metadata": {},
   "outputs": [
    {
     "ename": "AttributeError",
     "evalue": "module 'mlProject.constants' has no attribute 'CONFIG_FILE_PATH'",
     "output_type": "error",
     "traceback": [
      "\u001b[1;31m---------------------------------------------------------------------------\u001b[0m",
      "\u001b[1;31mAttributeError\u001b[0m                            Traceback (most recent call last)",
      "Cell \u001b[1;32mIn[36], line 1\u001b[0m\n\u001b[1;32m----> 1\u001b[0m \u001b[39mprint\u001b[39m(mlProject\u001b[39m.\u001b[39;49mconstants\u001b[39m.\u001b[39;49mCONFIG_FILE_PATH)\n",
      "\u001b[1;31mAttributeError\u001b[0m: module 'mlProject.constants' has no attribute 'CONFIG_FILE_PATH'"
     ]
    }
   ],
   "source": [
    "print(mlProject.constants.CONFIG_FILE_PATH)"
   ]
  },
  {
   "cell_type": "code",
   "execution_count": 32,
   "metadata": {},
   "outputs": [
    {
     "ename": "AttributeError",
     "evalue": "module 'mlProject.constants' has no attribute 'CONFIG_FILE_PATH'",
     "output_type": "error",
     "traceback": [
      "\u001b[1;31m---------------------------------------------------------------------------\u001b[0m",
      "\u001b[1;31mAttributeError\u001b[0m                            Traceback (most recent call last)",
      "Cell \u001b[1;32mIn[32], line 1\u001b[0m\n\u001b[1;32m----> 1\u001b[0m \u001b[39mclass\u001b[39;49;00m \u001b[39mConfigurationManager\u001b[39;49;00m:\n\u001b[0;32m      2\u001b[0m     \u001b[39mdef\u001b[39;49;00m \u001b[39m__init__\u001b[39;49m(\n\u001b[0;32m      3\u001b[0m         \u001b[39mself\u001b[39;49m,\n\u001b[0;32m      4\u001b[0m         config_filepath \u001b[39m=\u001b[39;49m mlProject\u001b[39m.\u001b[39;49mconstants\u001b[39m.\u001b[39;49mCONFIG_FILE_PATH,\n\u001b[0;32m      5\u001b[0m         params_filepath \u001b[39m=\u001b[39;49m mlProject\u001b[39m.\u001b[39;49mconstants\u001b[39m.\u001b[39;49mPARAMS_FILE_PATH,\n\u001b[0;32m      6\u001b[0m         schema_filepath \u001b[39m=\u001b[39;49m mlProject\u001b[39m.\u001b[39;49mconstants\u001b[39m.\u001b[39;49mSCHEMA_FILE_PATH):\n\u001b[0;32m      8\u001b[0m          create_directories([\u001b[39mself\u001b[39;49m\u001b[39m.\u001b[39;49mconfig\u001b[39m.\u001b[39;49martifacts_root])\n",
      "Cell \u001b[1;32mIn[32], line 4\u001b[0m, in \u001b[0;36mConfigurationManager\u001b[1;34m()\u001b[0m\n\u001b[0;32m      1\u001b[0m \u001b[39mclass\u001b[39;00m \u001b[39mConfigurationManager\u001b[39;00m:\n\u001b[0;32m      2\u001b[0m     \u001b[39mdef\u001b[39;00m \u001b[39m__init__\u001b[39m(\n\u001b[0;32m      3\u001b[0m         \u001b[39mself\u001b[39m,\n\u001b[1;32m----> 4\u001b[0m         config_filepath \u001b[39m=\u001b[39m mlProject\u001b[39m.\u001b[39;49mconstants\u001b[39m.\u001b[39;49mCONFIG_FILE_PATH,\n\u001b[0;32m      5\u001b[0m         params_filepath \u001b[39m=\u001b[39m mlProject\u001b[39m.\u001b[39mconstants\u001b[39m.\u001b[39mPARAMS_FILE_PATH,\n\u001b[0;32m      6\u001b[0m         schema_filepath \u001b[39m=\u001b[39m mlProject\u001b[39m.\u001b[39mconstants\u001b[39m.\u001b[39mSCHEMA_FILE_PATH):\n\u001b[0;32m      8\u001b[0m          create_directories([\u001b[39mself\u001b[39m\u001b[39m.\u001b[39mconfig\u001b[39m.\u001b[39martifacts_root])\n\u001b[0;32m     10\u001b[0m     \u001b[39mdef\u001b[39;00m \u001b[39mget_data_ingestion_config\u001b[39m(\u001b[39mself\u001b[39m) \u001b[39m-\u001b[39m\u001b[39m>\u001b[39m DataIngestionConfig:\n",
      "\u001b[1;31mAttributeError\u001b[0m: module 'mlProject.constants' has no attribute 'CONFIG_FILE_PATH'"
     ]
    }
   ],
   "source": [
    "# class ConfigurationManager:\n",
    "#     def __init__(\n",
    "#         self,\n",
    "#         config_filepath = mlProject.constants.CONFIG_FILE_PATH,\n",
    "#         params_filepath = mlProject.constants.PARAMS_FILE_PATH,\n",
    "#         schema_filepath = mlProject.constants.SCHEMA_FILE_PATH):\n",
    "        \n",
    "#          create_directories([self.config.artifacts_root])\n",
    "\n",
    "#     def get_data_ingestion_config(self) -> DataIngestionConfig:\n",
    "#         config = self.config.data_ingestion\n",
    "\n",
    "#         create_directories([config.root_dir])\n",
    "\n",
    "#         data_ingestion_config = DataIngestionConfig(\n",
    "#             root_dir=config.root_dir,\n",
    "#             source_URL=config.source_URL,\n",
    "#             local_data_file=config.local_data_file,\n",
    "#             unzip_dir=config.unzip_dir \n",
    "#         )\n",
    "    \n",
    "\n",
    "#         return data_ingestion_config\n",
    "        \n"
   ]
  }
 ],
 "metadata": {
  "kernelspec": {
   "display_name": "dev",
   "language": "python",
   "name": "python3"
  },
  "language_info": {
   "codemirror_mode": {
    "name": "ipython",
    "version": 3
   },
   "file_extension": ".py",
   "mimetype": "text/x-python",
   "name": "python",
   "nbconvert_exporter": "python",
   "pygments_lexer": "ipython3",
   "version": "3.11.4"
  },
  "orig_nbformat": 4
 },
 "nbformat": 4,
 "nbformat_minor": 2
}
